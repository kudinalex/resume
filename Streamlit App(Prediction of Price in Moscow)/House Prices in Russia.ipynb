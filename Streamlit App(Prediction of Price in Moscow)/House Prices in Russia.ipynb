{
 "cells": [
  {
   "cell_type": "code",
   "execution_count": 29,
   "id": "e7916bf6-ddf5-4d79-a349-783e5c89ed62",
   "metadata": {},
   "outputs": [],
   "source": [
    "import pandas as pd\n",
    "import numpy as np\n",
    "from sklearn.linear_model import LinearRegression\n",
    "from sklearn.ensemble import RandomForestRegressor\n",
    "from xgboost import XGBRegressor\n",
    "from sklearn.metrics import mean_squared_error, mean_absolute_error\n",
    "from sklearn.preprocessing import LabelEncoder\n",
    "from sklearn.model_selection import train_test_split\n",
    "from catboost import CatBoostRegressor\n",
    "import joblib\n",
    "import json"
   ]
  },
  {
   "cell_type": "code",
   "execution_count": 3,
   "id": "67a05690-a551-4fd9-840c-0809676d5aad",
   "metadata": {},
   "outputs": [],
   "source": [
    "df = pd.read_csv(\"./data.csv\")"
   ]
  },
  {
   "cell_type": "code",
   "execution_count": 4,
   "id": "2184e64f-daef-4236-8b99-bf87a7da5a1b",
   "metadata": {},
   "outputs": [
    {
     "data": {
      "text/html": [
       "<div>\n",
       "<style scoped>\n",
       "    .dataframe tbody tr th:only-of-type {\n",
       "        vertical-align: middle;\n",
       "    }\n",
       "\n",
       "    .dataframe tbody tr th {\n",
       "        vertical-align: top;\n",
       "    }\n",
       "\n",
       "    .dataframe thead th {\n",
       "        text-align: right;\n",
       "    }\n",
       "</style>\n",
       "<table border=\"1\" class=\"dataframe\">\n",
       "  <thead>\n",
       "    <tr style=\"text-align: right;\">\n",
       "      <th></th>\n",
       "      <th>Price</th>\n",
       "      <th>Apartment type</th>\n",
       "      <th>Metro station</th>\n",
       "      <th>Minutes to metro</th>\n",
       "      <th>Region</th>\n",
       "      <th>Number of rooms</th>\n",
       "      <th>Area</th>\n",
       "      <th>Living area</th>\n",
       "      <th>Kitchen area</th>\n",
       "      <th>Floor</th>\n",
       "      <th>Number of floors</th>\n",
       "      <th>Renovation</th>\n",
       "    </tr>\n",
       "  </thead>\n",
       "  <tbody>\n",
       "    <tr>\n",
       "      <th>0</th>\n",
       "      <td>6300000.0</td>\n",
       "      <td>Secondary</td>\n",
       "      <td>Опалиха</td>\n",
       "      <td>6.0</td>\n",
       "      <td>Moscow region</td>\n",
       "      <td>1.0</td>\n",
       "      <td>30.60</td>\n",
       "      <td>11.1</td>\n",
       "      <td>8.5</td>\n",
       "      <td>25.0</td>\n",
       "      <td>25</td>\n",
       "      <td>Cosmetic</td>\n",
       "    </tr>\n",
       "    <tr>\n",
       "      <th>1</th>\n",
       "      <td>9000000.0</td>\n",
       "      <td>Secondary</td>\n",
       "      <td>Павшино</td>\n",
       "      <td>2.0</td>\n",
       "      <td>Moscow region</td>\n",
       "      <td>1.0</td>\n",
       "      <td>49.20</td>\n",
       "      <td>20.0</td>\n",
       "      <td>10.0</td>\n",
       "      <td>6.0</td>\n",
       "      <td>15</td>\n",
       "      <td>European-style renovation</td>\n",
       "    </tr>\n",
       "    <tr>\n",
       "      <th>2</th>\n",
       "      <td>11090000.0</td>\n",
       "      <td>Secondary</td>\n",
       "      <td>Мякинино</td>\n",
       "      <td>14.0</td>\n",
       "      <td>Moscow region</td>\n",
       "      <td>1.0</td>\n",
       "      <td>44.70</td>\n",
       "      <td>16.2</td>\n",
       "      <td>13.1</td>\n",
       "      <td>10.0</td>\n",
       "      <td>25</td>\n",
       "      <td>Cosmetic</td>\n",
       "    </tr>\n",
       "    <tr>\n",
       "      <th>3</th>\n",
       "      <td>8300000.0</td>\n",
       "      <td>Secondary</td>\n",
       "      <td>Строгино</td>\n",
       "      <td>8.0</td>\n",
       "      <td>Moscow region</td>\n",
       "      <td>1.0</td>\n",
       "      <td>35.10</td>\n",
       "      <td>16.0</td>\n",
       "      <td>11.0</td>\n",
       "      <td>12.0</td>\n",
       "      <td>33</td>\n",
       "      <td>European-style renovation</td>\n",
       "    </tr>\n",
       "    <tr>\n",
       "      <th>4</th>\n",
       "      <td>6450000.0</td>\n",
       "      <td>Secondary</td>\n",
       "      <td>Опалиха</td>\n",
       "      <td>6.0</td>\n",
       "      <td>Moscow region</td>\n",
       "      <td>1.0</td>\n",
       "      <td>37.70</td>\n",
       "      <td>15.2</td>\n",
       "      <td>4.0</td>\n",
       "      <td>5.0</td>\n",
       "      <td>5</td>\n",
       "      <td>Without renovation</td>\n",
       "    </tr>\n",
       "    <tr>\n",
       "      <th>...</th>\n",
       "      <td>...</td>\n",
       "      <td>...</td>\n",
       "      <td>...</td>\n",
       "      <td>...</td>\n",
       "      <td>...</td>\n",
       "      <td>...</td>\n",
       "      <td>...</td>\n",
       "      <td>...</td>\n",
       "      <td>...</td>\n",
       "      <td>...</td>\n",
       "      <td>...</td>\n",
       "      <td>...</td>\n",
       "    </tr>\n",
       "    <tr>\n",
       "      <th>22671</th>\n",
       "      <td>4768792.0</td>\n",
       "      <td>New building</td>\n",
       "      <td>Котельники</td>\n",
       "      <td>8.0</td>\n",
       "      <td>Moscow region</td>\n",
       "      <td>0.0</td>\n",
       "      <td>31.75</td>\n",
       "      <td>13.0</td>\n",
       "      <td>5.0</td>\n",
       "      <td>4.0</td>\n",
       "      <td>17</td>\n",
       "      <td>Cosmetic</td>\n",
       "    </tr>\n",
       "    <tr>\n",
       "      <th>22672</th>\n",
       "      <td>5900000.0</td>\n",
       "      <td>New building</td>\n",
       "      <td>Домодедовская</td>\n",
       "      <td>25.0</td>\n",
       "      <td>Moscow region</td>\n",
       "      <td>1.0</td>\n",
       "      <td>31.60</td>\n",
       "      <td>10.1</td>\n",
       "      <td>12.2</td>\n",
       "      <td>11.0</td>\n",
       "      <td>15</td>\n",
       "      <td>Cosmetic</td>\n",
       "    </tr>\n",
       "    <tr>\n",
       "      <th>22673</th>\n",
       "      <td>3700000.0</td>\n",
       "      <td>New building</td>\n",
       "      <td>Котельники</td>\n",
       "      <td>30.0</td>\n",
       "      <td>Moscow region</td>\n",
       "      <td>0.0</td>\n",
       "      <td>18.00</td>\n",
       "      <td>15.0</td>\n",
       "      <td>8.1</td>\n",
       "      <td>17.0</td>\n",
       "      <td>17</td>\n",
       "      <td>Cosmetic</td>\n",
       "    </tr>\n",
       "    <tr>\n",
       "      <th>22674</th>\n",
       "      <td>5768869.0</td>\n",
       "      <td>New building</td>\n",
       "      <td>Жулебино</td>\n",
       "      <td>14.0</td>\n",
       "      <td>Moscow region</td>\n",
       "      <td>2.0</td>\n",
       "      <td>36.39</td>\n",
       "      <td>22.0</td>\n",
       "      <td>6.6</td>\n",
       "      <td>12.0</td>\n",
       "      <td>14</td>\n",
       "      <td>Cosmetic</td>\n",
       "    </tr>\n",
       "    <tr>\n",
       "      <th>22675</th>\n",
       "      <td>6839157.0</td>\n",
       "      <td>New building</td>\n",
       "      <td>Котельники</td>\n",
       "      <td>8.0</td>\n",
       "      <td>Moscow region</td>\n",
       "      <td>2.0</td>\n",
       "      <td>56.13</td>\n",
       "      <td>32.0</td>\n",
       "      <td>5.0</td>\n",
       "      <td>10.0</td>\n",
       "      <td>17</td>\n",
       "      <td>Cosmetic</td>\n",
       "    </tr>\n",
       "  </tbody>\n",
       "</table>\n",
       "<p>22676 rows × 12 columns</p>\n",
       "</div>"
      ],
      "text/plain": [
       "            Price Apartment type  Metro station  Minutes to metro  \\\n",
       "0       6300000.0      Secondary        Опалиха               6.0   \n",
       "1       9000000.0      Secondary        Павшино               2.0   \n",
       "2      11090000.0      Secondary       Мякинино              14.0   \n",
       "3       8300000.0      Secondary       Строгино               8.0   \n",
       "4       6450000.0      Secondary        Опалиха               6.0   \n",
       "...           ...            ...            ...               ...   \n",
       "22671   4768792.0   New building     Котельники               8.0   \n",
       "22672   5900000.0   New building  Домодедовская              25.0   \n",
       "22673   3700000.0   New building     Котельники              30.0   \n",
       "22674   5768869.0   New building       Жулебино              14.0   \n",
       "22675   6839157.0   New building     Котельники               8.0   \n",
       "\n",
       "              Region  Number of rooms   Area  Living area  Kitchen area  \\\n",
       "0      Moscow region              1.0  30.60         11.1           8.5   \n",
       "1      Moscow region              1.0  49.20         20.0          10.0   \n",
       "2      Moscow region              1.0  44.70         16.2          13.1   \n",
       "3      Moscow region              1.0  35.10         16.0          11.0   \n",
       "4      Moscow region              1.0  37.70         15.2           4.0   \n",
       "...              ...              ...    ...          ...           ...   \n",
       "22671  Moscow region              0.0  31.75         13.0           5.0   \n",
       "22672  Moscow region              1.0  31.60         10.1          12.2   \n",
       "22673  Moscow region              0.0  18.00         15.0           8.1   \n",
       "22674  Moscow region              2.0  36.39         22.0           6.6   \n",
       "22675  Moscow region              2.0  56.13         32.0           5.0   \n",
       "\n",
       "       Floor  Number of floors                 Renovation  \n",
       "0       25.0                25                   Cosmetic  \n",
       "1        6.0                15  European-style renovation  \n",
       "2       10.0                25                   Cosmetic  \n",
       "3       12.0                33  European-style renovation  \n",
       "4        5.0                 5         Without renovation  \n",
       "...      ...               ...                        ...  \n",
       "22671    4.0                17                   Cosmetic  \n",
       "22672   11.0                15                   Cosmetic  \n",
       "22673   17.0                17                   Cosmetic  \n",
       "22674   12.0                14                   Cosmetic  \n",
       "22675   10.0                17                   Cosmetic  \n",
       "\n",
       "[22676 rows x 12 columns]"
      ]
     },
     "execution_count": 4,
     "metadata": {},
     "output_type": "execute_result"
    }
   ],
   "source": [
    "df"
   ]
  },
  {
   "cell_type": "code",
   "execution_count": 5,
   "id": "df1da6f2-b290-4b02-9fb2-7ac8090745eb",
   "metadata": {},
   "outputs": [
    {
     "name": "stdout",
     "output_type": "stream",
     "text": [
      "<class 'pandas.core.frame.DataFrame'>\n",
      "RangeIndex: 22676 entries, 0 to 22675\n",
      "Data columns (total 12 columns):\n",
      " #   Column            Non-Null Count  Dtype  \n",
      "---  ------            --------------  -----  \n",
      " 0   Price             22676 non-null  float64\n",
      " 1   Apartment type    22676 non-null  object \n",
      " 2   Metro station     22676 non-null  object \n",
      " 3   Minutes to metro  22676 non-null  float64\n",
      " 4   Region            22676 non-null  object \n",
      " 5   Number of rooms   22676 non-null  float64\n",
      " 6   Area              22676 non-null  float64\n",
      " 7   Living area       22676 non-null  float64\n",
      " 8   Kitchen area      22676 non-null  float64\n",
      " 9   Floor             22676 non-null  float64\n",
      " 10  Number of floors  22676 non-null  int64  \n",
      " 11  Renovation        22676 non-null  object \n",
      "dtypes: float64(7), int64(1), object(4)\n",
      "memory usage: 2.1+ MB\n"
     ]
    }
   ],
   "source": [
    "df.info()"
   ]
  },
  {
   "cell_type": "code",
   "execution_count": 6,
   "id": "7549a8b6-1993-453e-ae28-442100d21d97",
   "metadata": {},
   "outputs": [
    {
     "name": "stdout",
     "output_type": "stream",
     "text": [
      "Price               0\n",
      "Apartment type      0\n",
      "Metro station       0\n",
      "Minutes to metro    0\n",
      "Region              0\n",
      "Number of rooms     0\n",
      "Area                0\n",
      "Living area         0\n",
      "Kitchen area        0\n",
      "Floor               0\n",
      "Number of floors    0\n",
      "Renovation          0\n",
      "dtype: int64\n"
     ]
    }
   ],
   "source": [
    "null_counts = df.isnull().sum()\n",
    "print(null_counts)"
   ]
  },
  {
   "cell_type": "code",
   "execution_count": 7,
   "id": "b00e77ee-1ca3-4909-97ff-37f897894ce3",
   "metadata": {},
   "outputs": [],
   "source": [
    "df.drop(\"Region\",axis=1,inplace=True)"
   ]
  },
  {
   "cell_type": "code",
   "execution_count": 8,
   "id": "ddc4d0d5-146a-4422-b24e-fe2f5c2adeef",
   "metadata": {},
   "outputs": [
    {
     "data": {
      "text/plain": [
       "array(['Cosmetic', 'European-style renovation', 'Without renovation',\n",
       "       'Designer'], dtype=object)"
      ]
     },
     "execution_count": 8,
     "metadata": {},
     "output_type": "execute_result"
    }
   ],
   "source": [
    "df[\"Renovation\"].unique()"
   ]
  },
  {
   "cell_type": "code",
   "execution_count": 9,
   "id": "9de55544-5c2f-448b-bd05-20ad9d421560",
   "metadata": {},
   "outputs": [],
   "source": [
    "df[\"Renovation\"] = df[\"Renovation\"].map({'Cosmetic':'Косметический ремонт','European-style renovation':'Европейский стиль ремонта', 'Without renovation':'Без ремонта', 'Designer':'Дизанейрский ремон'})"
   ]
  },
  {
   "cell_type": "code",
   "execution_count": 10,
   "id": "82d253bc-7b9e-424b-a8aa-dd9838eadaf4",
   "metadata": {},
   "outputs": [
    {
     "name": "stdout",
     "output_type": "stream",
     "text": [
      "<class 'pandas.core.frame.DataFrame'>\n",
      "RangeIndex: 22676 entries, 0 to 22675\n",
      "Data columns (total 11 columns):\n",
      " #   Column            Non-Null Count  Dtype  \n",
      "---  ------            --------------  -----  \n",
      " 0   Price             22676 non-null  float64\n",
      " 1   Apartment type    22676 non-null  object \n",
      " 2   Metro station     22676 non-null  object \n",
      " 3   Minutes to metro  22676 non-null  float64\n",
      " 4   Number of rooms   22676 non-null  float64\n",
      " 5   Area              22676 non-null  float64\n",
      " 6   Living area       22676 non-null  float64\n",
      " 7   Kitchen area      22676 non-null  float64\n",
      " 8   Floor             22676 non-null  float64\n",
      " 9   Number of floors  22676 non-null  int64  \n",
      " 10  Renovation        22676 non-null  object \n",
      "dtypes: float64(7), int64(1), object(3)\n",
      "memory usage: 1.9+ MB\n"
     ]
    }
   ],
   "source": [
    "df.info()"
   ]
  },
  {
   "cell_type": "code",
   "execution_count": 11,
   "id": "64dd1699-f1fe-4c17-9ce4-2c399288d392",
   "metadata": {},
   "outputs": [],
   "source": [
    "df[\"Apartment type\"] = df[\"Apartment type\"].map({\"Secondary\":\"Вторичка\",\"New building\":\"Новострой\"})"
   ]
  },
  {
   "cell_type": "code",
   "execution_count": 12,
   "id": "04894ba2-4bd1-4dfb-97f7-30555cd98eac",
   "metadata": {},
   "outputs": [
    {
     "name": "stdout",
     "output_type": "stream",
     "text": [
      "<class 'pandas.core.frame.DataFrame'>\n",
      "RangeIndex: 22676 entries, 0 to 22675\n",
      "Data columns (total 11 columns):\n",
      " #   Column            Non-Null Count  Dtype  \n",
      "---  ------            --------------  -----  \n",
      " 0   Price             22676 non-null  float64\n",
      " 1   Apartment type    22676 non-null  object \n",
      " 2   Metro station     22676 non-null  object \n",
      " 3   Minutes to metro  22676 non-null  float64\n",
      " 4   Number of rooms   22676 non-null  float64\n",
      " 5   Area              22676 non-null  float64\n",
      " 6   Living area       22676 non-null  float64\n",
      " 7   Kitchen area      22676 non-null  float64\n",
      " 8   Floor             22676 non-null  float64\n",
      " 9   Number of floors  22676 non-null  int64  \n",
      " 10  Renovation        22676 non-null  object \n",
      "dtypes: float64(7), int64(1), object(3)\n",
      "memory usage: 1.9+ MB\n"
     ]
    }
   ],
   "source": [
    "df.info()"
   ]
  },
  {
   "cell_type": "code",
   "execution_count": 15,
   "id": "b894f1f0-96d2-4831-bb61-38df7e2b0dfc",
   "metadata": {},
   "outputs": [],
   "source": [
    "X = df.drop(\"Price\",axis=1)\n",
    "y = df[\"Price\"]"
   ]
  },
  {
   "cell_type": "code",
   "execution_count": 16,
   "id": "86e1a364-de0f-4871-b722-aa6bd4f36c82",
   "metadata": {},
   "outputs": [
    {
     "name": "stdout",
     "output_type": "stream",
     "text": [
      "<class 'pandas.core.frame.DataFrame'>\n",
      "RangeIndex: 22676 entries, 0 to 22675\n",
      "Data columns (total 10 columns):\n",
      " #   Column            Non-Null Count  Dtype  \n",
      "---  ------            --------------  -----  \n",
      " 0   Apartment type    22676 non-null  object \n",
      " 1   Metro station     22676 non-null  object \n",
      " 2   Minutes to metro  22676 non-null  float64\n",
      " 3   Number of rooms   22676 non-null  float64\n",
      " 4   Area              22676 non-null  float64\n",
      " 5   Living area       22676 non-null  float64\n",
      " 6   Kitchen area      22676 non-null  float64\n",
      " 7   Floor             22676 non-null  float64\n",
      " 8   Number of floors  22676 non-null  int64  \n",
      " 9   Renovation        22676 non-null  object \n",
      "dtypes: float64(6), int64(1), object(3)\n",
      "memory usage: 1.7+ MB\n"
     ]
    }
   ],
   "source": [
    "X.info()"
   ]
  },
  {
   "cell_type": "code",
   "execution_count": 17,
   "id": "9362d409-1512-496c-8bcc-b0a93b2cb998",
   "metadata": {},
   "outputs": [],
   "source": [
    "label_encoders = {}\n",
    "dicts = {}\n",
    "for column in ['Apartment type', 'Metro station', 'Renovation']:\n",
    "    le = LabelEncoder()\n",
    "    X[column] = le.fit_transform(X[column])\n",
    "    label_encoders[column] = le "
   ]
  },
  {
   "cell_type": "code",
   "execution_count": 18,
   "id": "00d9b5ad-4a6a-4e4e-bd45-c5e1219328ab",
   "metadata": {},
   "outputs": [
    {
     "name": "stdout",
     "output_type": "stream",
     "text": [
      "<class 'pandas.core.frame.DataFrame'>\n",
      "RangeIndex: 22676 entries, 0 to 22675\n",
      "Data columns (total 10 columns):\n",
      " #   Column            Non-Null Count  Dtype  \n",
      "---  ------            --------------  -----  \n",
      " 0   Apartment type    22676 non-null  int32  \n",
      " 1   Metro station     22676 non-null  int32  \n",
      " 2   Minutes to metro  22676 non-null  float64\n",
      " 3   Number of rooms   22676 non-null  float64\n",
      " 4   Area              22676 non-null  float64\n",
      " 5   Living area       22676 non-null  float64\n",
      " 6   Kitchen area      22676 non-null  float64\n",
      " 7   Floor             22676 non-null  float64\n",
      " 8   Number of floors  22676 non-null  int64  \n",
      " 9   Renovation        22676 non-null  int32  \n",
      "dtypes: float64(6), int32(3), int64(1)\n",
      "memory usage: 1.5 MB\n"
     ]
    }
   ],
   "source": [
    "X.info()"
   ]
  },
  {
   "cell_type": "code",
   "execution_count": 22,
   "id": "1624e992-4e31-46b3-b191-12c8fe2a8317",
   "metadata": {},
   "outputs": [
    {
     "name": "stdout",
     "output_type": "stream",
     "text": [
      "Apartment type: {'Вторичка': 0, 'Новострой': 1}\n",
      "Metro station: {' Авиамоторная': 0, ' Автозаводская': 1, ' Академическая': 2, ' Александровский сад': 3, ' Алексеевская': 4, ' Алма-Атинская': 5, ' Алтуфьево': 6, ' Аминьевская': 7, ' Андроновка': 8, ' Аникеевка': 9, ' Арбатская': 10, ' Аэропорт': 11, ' Аэропорт Внуково': 12, ' Бабушкинская': 13, ' Багратионовская': 14, ' Балтийская': 15, ' Баррикадная': 16, ' Бауманская': 17, ' Беговая': 18, ' Беломорская': 19, ' Белорусская': 20, ' Бескудниково': 21, ' Бибирево': 22, ' Библиотека и Ленина': 23, ' Боровицкая': 24, ' Ботанический сад': 25, ' Братиславская': 26, ' Бульвар Адмирала Ушакова': 27, ' Бульвар Дмитрия Донского': 28, ' Бульвар Рокоссовского': 29, ' Бунинская аллея': 30, ' Бутово': 31, ' Бутырская': 32, ' ВДНХ': 33, ' Варшавская': 34, ' Верхние Лихоборы': 35, ' Верхние котлы': 36, ' Вешняки': 37, ' Владыкино': 38, ' Внуково': 39, ' Водный стадион': 40, ' Войковская': 41, ' Волгоградский проспект': 42, ' Волжская': 43, ' Волоколамская': 44, ' Воробьёвы горы': 45, ' Воронцовская': 46, ' Выставочная': 47, ' Выставочный центр': 48, ' Выхино': 49, ' Говорово': 50, ' Гражданская': 51, ' Давыдково': 52, ' Дегунино': 53, ' Деловой центр': 54, ' Депо': 55, ' Динамо': 56, ' Дмитровская': 57, ' Добрынинская': 58, ' Достоевская': 59, ' Дубровка': 60, ' ЗИЛ': 61, ' Зеленоград — Крюково': 62, ' Зорге': 63, ' Зюзино': 64, ' Зябликово': 65, ' Калитники': 66, ' Калужская': 67, ' Кантемировская': 68, ' Карамышевская': 69, ' Каховская': 70, ' Киевская': 71, ' Китай-город': 72, ' Кожуховская': 73, ' Коломенская': 74, ' Коммунарка': 75, ' Комсомольская': 76, ' Коньково': 77, ' Коптево': 78, ' Красногвардейская': 79, ' Красногорская': 80, ' Краснопресненская': 81, ' Красносельская': 82, ' Красные ворота': 83, ' Красный Балтиец': 84, ' Красный Строитель': 85, ' Кропоткинская': 86, ' Крылатское': 87, ' Крымская': 88, ' Кузнецкий мост': 89, ' Кузьминки': 90, ' Кунцевская': 91, ' Курская': 92, ' Курьяново': 93, ' Кутузовская': 94, ' Ленинский проспект': 95, ' Лесопарковая': 96, ' Лефортово': 97, ' Лианозово': 98, ' Лихоборы': 99, ' Локомотив': 100, ' Ломоносовский проспект': 101, ' Лужники': 102, ' Люблино': 103, ' Марксистская': 104, ' Марьина Роща': 105, ' Матвеевская': 106, ' Маяковская': 107, ' Медведково': 108, ' Международная': 109, ' Менделеевская': 110, ' Минская': 111, ' Митино': 112, ' Мичуринский проспект': 113, ' Мнёвники': 114, ' Молодёжная': 115, ' Москва-Товарная': 116, ' Москворечье': 117, ' Мякинино': 118, ' Нагатинская': 119, ' Нагатинский Затон': 120, ' Нагорная': 121, ' Народное Ополчение': 122, ' Нахабино': 123, ' Нахимовский проспект': 124, ' Некрасовка': 125, ' Нижегородская': 126, ' Новаторская': 127, ' Новогиреево': 128, ' Новодачная': 129, ' Новокосино': 130, ' Новокузнецкая': 131, ' Новопеределкино': 132, ' Новоподрезково': 133, ' Новослободская': 134, ' Новохохловская': 135, ' Новые Черёмушки': 136, ' Озёрная': 137, ' Окружная': 138, ' Окская': 139, ' Октябрьская': 140, ' Октябрьское поле': 141, ' Ольховая': 142, ' Опалиха': 143, ' Орехово': 144, ' Остафьево': 145, ' Отрадное': 146, ' Охотный ряд': 147, ' Очаково': 148, ' Павелецкая': 149, ' Павшино': 150, ' Панфиловская': 151, ' Парк Культуры': 152, ' Парк Победы': 153, ' Пенягино': 154, ' Первомайская': 155, ' Перерва': 156, ' Петровский Парк': 157, ' Печатники': 158, ' Планерная': 159, ' Площадь Гагарина': 160, ' Площадь Ильича': 161, ' Площадь Революции': 162, ' Подольск': 163, ' Полежаевская': 164, ' Полянка': 165, ' Пражская': 166, ' Преображенская площадь': 167, ' Прокшино': 168, ' Пролетарская': 169, ' Проспект Вернадского': 170, ' Проспект Мира': 171, ' Профсоюзная': 172, ' Пушкинская': 173, ' Пыхтино': 174, ' Пятницкое шоссе': 175, ' Рабочий посёлок': 176, ' Раменки': 177, ' Рассказовка': 178, ' Речной вокзал': 179, ' Рижская': 180, ' Римская': 181, ' Ростокино': 182, ' Румянцево': 183, ' Рязанский проспект': 184, ' Савёловская': 185, ' Саларьево': 186, ' Санино': 187, ' Свиблово': 188, ' Севастопольская': 189, ' Селигерская': 190, ' Семёновская': 191, ' Серпуховская': 192, ' Силикатная': 193, ' Славянский бульвар': 194, ' Смоленская': 195, ' Сокол': 196, ' Соколиная гора': 197, ' Сокольники': 198, ' Солнцево': 199, ' Спартак': 200, ' Спортивная': 201, ' Сретенский бульвар': 202, ' Стахановская': 203, ' Стрешнево': 204, ' Строгино': 205, ' Студенческая': 206, ' Сухаревская': 207, ' Сходненская': 208, ' Таганская': 209, ' Тверская': 210, ' Театральная': 211, ' Текстильщики': 212, ' Терехово ': 213, ' Тестовская': 214, ' Технопарк': 215, ' Тимирязевская': 216, ' Третьяковская': 217, ' Трикотажная': 218, ' Тропарёво': 219, ' Трубная': 220, ' Тульская': 221, ' Тургеневская': 222, ' Тушинская': 223, ' Тёплый Стан': 224, ' Угрешская': 225, ' Улица 1905 года': 226, ' Улица Академика Королёва': 227, ' Улица Академика Янгеля': 228, ' Улица Горчакова': 229, ' Улица Скобелевская': 230, ' Улица Старокачаловская': 231, ' Университет': 232, ' Физтех': 233, ' Филатов Луг': 234, ' Фили': 235, ' Филёвский парк': 236, ' Фонвизинская': 237, ' Фрунзенская': 238, ' Хлебниково': 239, ' Ховрино': 240, ' Хорошёво': 241, ' Хорошёвская': 242, ' ЦСКА': 243, ' Царицыно': 244, ' Цветной бульвар': 245, ' Черкизовская': 246, ' Чертановская': 247, ' Чеховская': 248, ' Чистые пруды': 249, ' Чкаловская': 250, ' Шаболовская': 251, ' Шелепиха': 252, ' Шоссе Энтузиастов': 253, ' Щербинка': 254, ' Щукинская': 255, ' Щёлковская': 256, ' Электрозаводская': 257, ' Юго-Восточная': 258, ' Юго-Западная': 259, ' Южная': 260, ' Ясенево': 261, ' Яхромская': 262, 'Авиамоторная': 263, 'Автозаводская': 264, 'Академическая': 265, 'Алексеевская': 266, 'Алма-Атинская': 267, 'Алтуфьево': 268, 'Аминьевская': 269, 'Андроновка': 270, 'Аннино': 271, 'Арбатская': 272, 'Аэропорт': 273, 'Бабушкинская': 274, 'Багратионовская': 275, 'Балтийская': 276, 'Баррикадная': 277, 'Бауманская': 278, 'Беговая': 279, 'Белокаменная': 280, 'Беломорская': 281, 'Белорусская': 282, 'Беляево': 283, 'Бескудниково': 284, 'Бибирево': 285, 'Библиотека им. Ленина': 286, 'Битца': 287, 'Битцевский Парк': 288, 'Борисово': 289, 'Боровицкая': 290, 'Боровское шоссе': 291, 'Ботанический сад': 292, 'Братиславская': 293, 'Бульвар Адмирала Ушакова': 294, 'Бульвар Дмитрия Донского': 295, 'Бульвар Рокоссовского': 296, 'Бунинская Аллея': 297, 'Бутово': 298, 'Бутырская ': 299, 'ВДНХ': 300, 'Варшавская': 301, 'Варшавская (Коломенское)': 302, 'Верхние Котлы': 303, 'Верхние Лихоборы': 304, 'Владыкино': 305, 'Внуково': 306, 'Водный стадион': 307, 'Войковская': 308, 'Волгоградский проспект': 309, 'Волжская': 310, 'Волоколамская': 311, 'Воробьевы горы': 312, 'Воронцовская': 313, 'Выставочная': 314, 'Выхино': 315, 'Говорово': 316, 'Гражданская': 317, 'Давыдково': 318, 'Дегунино': 319, 'Деловой центр': 320, 'Депо': 321, 'Динамо': 322, 'Дмитровская': 323, 'Добрынинская': 324, 'Долгопрудная': 325, 'Домодедовская': 326, 'Достоевская': 327, 'Дубровка': 328, 'Жулебино': 329, 'ЗИЛ': 330, 'Зорге': 331, 'Зюзино': 332, 'Зябликово': 333, 'Измайлово': 334, 'Измайловская': 335, 'Калитники': 336, 'Калужская': 337, 'Кантемировская': 338, 'Каховская': 339, 'Каширская': 340, 'Киевская': 341, 'Китай-город': 342, 'Кленовый бульвар': 343, 'Кожуховская': 344, 'Коломенская': 345, 'Коммунарка': 346, 'Комсомольская': 347, 'Коньково': 348, 'Коптево': 349, 'Косино': 350, 'Котельники': 351, 'Красногвардейская': 352, 'Краснопресненская': 353, 'Красносельская': 354, 'Красные ворота': 355, 'Красный Балтиец': 356, 'Красный Строитель': 357, 'Крестьянская застава': 358, 'Кропоткинская': 359, 'Крылатское': 360, 'Крымская': 361, 'Кузнецкий мост': 362, 'Кузьминки': 363, 'Кунцевская': 364, 'Курская': 365, 'Курьяново': 366, 'Кутузовская': 367, 'Ленинский проспект': 368, 'Лермонтовский проспект': 369, 'Лесопарковая': 370, 'Лефортово': 371, 'Лианозово': 372, 'Лихоборы': 373, 'Локомотив': 374, 'Ломоносовский проспект': 375, 'Лубянка': 376, 'Лужники': 377, 'Лухмановская': 378, 'Люблино': 379, 'Марк': 380, 'Марксистская': 381, 'Марьина Роща': 382, 'Марьина Роща (Шереметьевская)': 383, 'Марьино': 384, 'Маяковская': 385, 'Медведково': 386, 'Международная': 387, 'Менделеевская': 388, 'Минская': 389, 'Митино': 390, 'Мичуринский проспект': 391, 'Мнёвники': 392, 'Молодежная': 393, 'Москва-Товарная': 394, 'Москворечье': 395, 'Мякинино': 396, 'Нагатинская': 397, 'Нагатинский Затон': 398, 'Нагорная': 399, 'Народное Ополчение': 400, 'Нахабино': 401, 'Нахимовский проспект': 402, 'Некрасовка': 403, 'Немчиновка': 404, 'Нижегородская': 405, 'Новаторская': 406, 'Новогиреево': 407, 'Новодачная': 408, 'Новокосино': 409, 'Новокузнецкая': 410, 'Новопеределкино': 411, 'Новослободская': 412, 'Новохохловская': 413, 'Новоясеневская': 414, 'Новые Черемушки': 415, 'Озёрная': 416, 'Окружная': 417, 'Окская': 418, 'Октябрьская': 419, 'Октябрьское поле': 420, 'Ольховая': 421, 'Орехово': 422, 'Остафьево': 423, 'Отрадное': 424, 'Охотный ряд': 425, 'Павелецкая': 426, 'Павшино': 427, 'Панфиловская': 428, 'Парк Победы': 429, 'Парк культуры': 430, 'Партизанская': 431, 'Пенягино': 432, 'Первомайская': 433, 'Перерва': 434, 'Перово': 435, 'Петровский парк': 436, 'Петровско-Разумовская': 437, 'Печатники': 438, 'Пионерская': 439, 'Планерная': 440, 'Площадь Гагарина': 441, 'Площадь Ильича': 442, 'Покровское': 443, 'Полежаевская': 444, 'Полянка': 445, 'Пражская': 446, 'Преображенская площадь': 447, 'Прокшино': 448, 'Пролетарская': 449, 'Проспект Вернадского': 450, 'Проспект Мира': 451, 'Профсоюзная': 452, 'Пушкинская': 453, 'Пыхтино': 454, 'Пятницкое шоссе': 455, 'Рабочий Посёлок': 456, 'Раменки': 457, 'Рассказовка': 458, 'Речной вокзал': 459, 'Рижская': 460, 'Римская': 461, 'Ростокино': 462, 'Румянцево': 463, 'Рязанский проспект': 464, 'Савеловская': 465, 'Савёловская': 466, 'Саларьево': 467, 'Свиблово': 468, 'Севастопольская': 469, 'Селигерская': 470, 'Семеновская': 471, 'Серпуховская': 472, 'Сетунь': 473, 'Силикатная': 474, 'Сколково': 475, 'Славянский бульвар': 476, 'Смоленская': 477, 'Сокол': 478, 'Соколиная Гора': 479, 'Сокольники': 480, 'Солнцево': 481, 'Спартак': 482, 'Спортивная': 483, 'Сретенский бульвар': 484, 'Стахановская': 485, 'Стрешнево': 486, 'Строгино': 487, 'Студенческая': 488, 'Сухаревская': 489, 'Сходненская': 490, 'Таганская': 491, 'Тверская': 492, 'Театральная': 493, 'Текстильщики': 494, 'Теплый Стан': 495, 'Терехово': 496, 'Терехово (Мнёвники)': 497, 'Тестовская': 498, 'Технопарк': 499, 'Тимирязевская': 500, 'Третьяковская': 501, 'Трикотажная': 502, 'Тропарево': 503, 'Трубная': 504, 'Тульская': 505, 'Тургеневская': 506, 'Тушинская': 507, 'Угрешская': 508, 'Улица 1905 года': 509, 'Улица Академика Янгеля': 510, 'Улица Горчакова': 511, 'Улица Дмитриевского': 512, 'Улица Скобелевская': 513, 'Улица Старокачаловская': 514, 'Университет': 515, 'Физтех': 516, 'Филатов Луг': 517, 'Филевский парк': 518, 'Фили': 519, 'Фонвизинская': 520, 'Фрунзенская': 521, 'Ховрино': 522, 'Хорошево': 523, 'Хорошёвская': 524, 'ЦСКА': 525, 'Царицыно': 526, 'Цветной бульвар': 527, 'Черкизовская': 528, 'Чертановская': 529, 'Чеховская': 530, 'Чистые пруды': 531, 'Чкаловская': 532, 'Шаболовская': 533, 'Шелепиха': 534, 'Шипиловская': 535, 'Шоссе Энтузиастов': 536, 'Шоссе энтузиастов': 537, 'Щелковская': 538, 'Щербинка': 539, 'Щукинская': 540, 'Электрозаводская': 541, 'Юго-Восточная': 542, 'Юго-Западная': 543, 'Южная': 544, 'Ясенево': 545, 'Яхромская': 546}\n",
      "Renovation: {'Без ремонта': 0, 'Дизанейрский ремон': 1, 'Европейский стиль ремонта': 2, 'Косметический ремонт': 3}\n"
     ]
    }
   ],
   "source": [
    "cat_dict = {col: dict(zip(le.classes_, le.transform(le.classes_))) for col, le in label_encoders.items()}\n",
    "\n",
    "# Вывод словарей для трех категориальных переменных\n",
    "for col, mapping in cat_dict.items():\n",
    "    print(f\"{col}: {mapping}\")"
   ]
  },
  {
   "cell_type": "code",
   "execution_count": 23,
   "id": "6fbcf3ce-3619-4bf2-86ea-1f27ede96ffd",
   "metadata": {},
   "outputs": [
    {
     "name": "stdout",
     "output_type": "stream",
     "text": [
      "<class 'pandas.core.frame.DataFrame'>\n",
      "RangeIndex: 22676 entries, 0 to 22675\n",
      "Data columns (total 10 columns):\n",
      " #   Column            Non-Null Count  Dtype  \n",
      "---  ------            --------------  -----  \n",
      " 0   Apartment type    22676 non-null  int32  \n",
      " 1   Metro station     22676 non-null  int32  \n",
      " 2   Minutes to metro  22676 non-null  float64\n",
      " 3   Number of rooms   22676 non-null  float64\n",
      " 4   Area              22676 non-null  float64\n",
      " 5   Living area       22676 non-null  float64\n",
      " 6   Kitchen area      22676 non-null  float64\n",
      " 7   Floor             22676 non-null  float64\n",
      " 8   Number of floors  22676 non-null  int64  \n",
      " 9   Renovation        22676 non-null  int32  \n",
      "dtypes: float64(6), int32(3), int64(1)\n",
      "memory usage: 1.5 MB\n"
     ]
    }
   ],
   "source": [
    "X.info()"
   ]
  },
  {
   "cell_type": "code",
   "execution_count": 31,
   "id": "5ed48537-8491-4c19-a2f1-37dfb67f0d7f",
   "metadata": {},
   "outputs": [],
   "source": [
    "X[\"Apartment type\"] = X[\"Apartment type\"].astype(\"int64\")\n",
    "X[\"Metro station\"] = X[\"Metro station\"].astype(\"int64\")\n",
    "X[\"Renovation\"] = X[\"Renovation\"].astype(\"int64\")"
   ]
  },
  {
   "cell_type": "code",
   "execution_count": 32,
   "id": "b509fc2f-dcc1-43c9-a9c3-ed5ac08ebdd9",
   "metadata": {},
   "outputs": [
    {
     "name": "stdout",
     "output_type": "stream",
     "text": [
      "mae rf: 9427320.61935388 mse rf: 1290993347254333.8\n",
      "mae xgb: 9267412.095816799 mse xgb: 1391596443163870.2\n",
      "mae lr: 20234717.403505757 mse lr: 2498908809018927.0\n"
     ]
    }
   ],
   "source": [
    "X_train,X_test,y_train,y_test = train_test_split(X,y,test_size=0.2,random_state=42)\n",
    "\n",
    "rf = RandomForestRegressor(random_state=42)\n",
    "xgb = XGBRegressor(random_state=42)\n",
    "lr = LinearRegression()\n",
    "\n",
    "rf.fit(X_train,y_train)\n",
    "xgb.fit(X_train,y_train)\n",
    "lr.fit(X_train,y_train)\n",
    "\n",
    "print(\"mae rf:\",mean_absolute_error(y_test,rf.predict(X_test)),\"mse rf:\",mean_squared_error(y_test,rf.predict(X_test)))\n",
    "print(\"mae xgb:\",mean_absolute_error(y_test,xgb.predict(X_test)),\"mse xgb:\",mean_squared_error(y_test,xgb.predict(X_test)))\n",
    "print(\"mae lr:\",mean_absolute_error(y_test,lr.predict(X_test)),\"mse lr:\",mean_squared_error(y_test,lr.predict(X_test)))"
   ]
  },
  {
   "cell_type": "code",
   "execution_count": 36,
   "id": "2773ecd1-f989-4eda-b683-cab998cd63b5",
   "metadata": {},
   "outputs": [
    {
     "name": "stdout",
     "output_type": "stream",
     "text": [
      "<class 'pandas.core.frame.DataFrame'>\n",
      "RangeIndex: 22676 entries, 0 to 22675\n",
      "Data columns (total 10 columns):\n",
      " #   Column            Non-Null Count  Dtype  \n",
      "---  ------            --------------  -----  \n",
      " 0   Apartment type    22676 non-null  int64  \n",
      " 1   Metro station     22676 non-null  int64  \n",
      " 2   Minutes to metro  22676 non-null  float64\n",
      " 3   Number of rooms   22676 non-null  float64\n",
      " 4   Area              22676 non-null  float64\n",
      " 5   Living area       22676 non-null  float64\n",
      " 6   Kitchen area      22676 non-null  float64\n",
      " 7   Floor             22676 non-null  float64\n",
      " 8   Number of floors  22676 non-null  int64  \n",
      " 9   Renovation        22676 non-null  int64  \n",
      "dtypes: float64(6), int64(4)\n",
      "memory usage: 1.7 MB\n"
     ]
    }
   ],
   "source": [
    "X.info()"
   ]
  },
  {
   "cell_type": "code",
   "execution_count": 37,
   "id": "2c2af3d2-ec99-4552-a3dd-559d7ca09a3e",
   "metadata": {},
   "outputs": [],
   "source": [
    "joblib.dump(rf, 'model.pkl')\n",
    "joblib.dump(label_encoders, 'label_encoders.pkl')\n",
    "\n",
    "# Создание словарей для категориальных признаков\n",
    "cat_dict = {col: {str(k): int(v) for k, v in zip(le.classes_, le.transform(le.classes_))} for col, le in label_encoders.items()}\n",
    "\n",
    "# Сохранение словарей в файл\n",
    "with open('cat_dict.json', 'w', encoding='utf-8') as f:\n",
    "    json.dump(cat_dict, f, ensure_ascii=False, indent=4)"
   ]
  },
  {
   "cell_type": "code",
   "execution_count": null,
   "id": "fd4cf41c-315f-4eaa-ba79-a3e380cfe057",
   "metadata": {},
   "outputs": [],
   "source": []
  }
 ],
 "metadata": {
  "kernelspec": {
   "display_name": "Python 3 (ipykernel)",
   "language": "python",
   "name": "python3"
  },
  "language_info": {
   "codemirror_mode": {
    "name": "ipython",
    "version": 3
   },
   "file_extension": ".py",
   "mimetype": "text/x-python",
   "name": "python",
   "nbconvert_exporter": "python",
   "pygments_lexer": "ipython3",
   "version": "3.11.7"
  }
 },
 "nbformat": 4,
 "nbformat_minor": 5
}
